{
 "cells": [
  {
   "cell_type": "markdown",
   "metadata": {},
   "source": [
    "## Writing functions"
   ]
  },
  {
   "cell_type": "code",
   "execution_count": 1,
   "metadata": {},
   "outputs": [],
   "source": [
    "#def function_name(parameters):\n",
    "#    ** body of your code **\n",
    "#    return value_to_return"
   ]
  },
  {
   "cell_type": "code",
   "execution_count": 2,
   "metadata": {},
   "outputs": [],
   "source": [
    "import numpy\n",
    "import os\n",
    "\n",
    "file_location = os.path.join('data', 'water.xyz')\n",
    "xyz_file = numpy.genfromtxt(fname=file_location, skip_header=2, dtype='unicode')\n",
    "symbols = xyz_file[:,0]\n",
    "coordinates = xyz_file[:,1:]\n",
    "coordinates = coordinates.astype(numpy.float)"
   ]
  },
  {
   "cell_type": "code",
   "execution_count": 3,
   "metadata": {},
   "outputs": [],
   "source": [
    "def calculate_distance(coords1, coords2):\n",
    "    x_distance = coords1[0]-coords2[0]\n",
    "    y_distance = coords1[1]-coords2[1]\n",
    "    z_distance = coords1[2]-coords2[2]\n",
    "    distance_12 = numpy.sqrt(x_distance**2 + y_distance**2 + z_distance**2)\n",
    "    return distance_12"
   ]
  },
  {
   "cell_type": "code",
   "execution_count": 4,
   "metadata": {},
   "outputs": [
    {
     "data": {
      "text/plain": [
       "1.0"
      ]
     },
     "execution_count": 4,
     "metadata": {},
     "output_type": "execute_result"
    }
   ],
   "source": [
    "vector1 = [0, 0, 0]\n",
    "vector2 = [0, 0, 1]\n",
    "calculate_distance(vector1,vector2)"
   ]
  },
  {
   "cell_type": "code",
   "execution_count": 9,
   "metadata": {},
   "outputs": [
    {
     "name": "stdout",
     "output_type": "stream",
     "text": [
      "O to H1 : 0.969\n",
      "O to H2 : 0.969\n"
     ]
    }
   ],
   "source": [
    "import numpy\n",
    "import os\n",
    "\n",
    "file_location = os.path.join('data', 'water.xyz')\n",
    "xyz_file = numpy.genfromtxt(fname=file_location, skip_header=2, dtype='unicode')\n",
    "symbols = xyz_file[:,0]\n",
    "coordinates = xyz_file[:,1:]\n",
    "coordinates = coordinates.astype(numpy.float)\n",
    "num_atoms = len(symbols)\n",
    "for num1 in range(0,num_atoms):\n",
    "    for num2 in range(0,num_atoms):\n",
    "        if num1<num2:\n",
    "            distance = calculate_distance(coordinates[num1],coordinates[num2])\n",
    "            if distance > 0 and distance<=1.5:\n",
    "                print(F'{symbols[num1]} to {symbols[num2]} : {distance:.3f}')"
   ]
  },
  {
   "cell_type": "code",
   "execution_count": 29,
   "metadata": {},
   "outputs": [],
   "source": [
    "def bond_check(atom_distance, min_length=0, max_length=1.5):\n",
    "    \"\"\"\n",
    "    check if a distance is a bond based on a minimum and maximum length.\n",
    "    Inputs: distance, min_length, max_length\n",
    "    Defaults: min_length=0, max_length=1.5\n",
    "    Return: True or False\n",
    "    \"\"\"\n",
    "    if atom_distance > min_length and atom_distance <= max_length:\n",
    "        return True\n",
    "    else:\n",
    "        return False"
   ]
  },
  {
   "cell_type": "code",
   "execution_count": 23,
   "metadata": {},
   "outputs": [
    {
     "data": {
      "text/plain": [
       "True"
      ]
     },
     "execution_count": 23,
     "metadata": {},
     "output_type": "execute_result"
    }
   ],
   "source": [
    "bond_check(1.2)"
   ]
  },
  {
   "cell_type": "code",
   "execution_count": 25,
   "metadata": {},
   "outputs": [
    {
     "data": {
      "text/plain": [
       "True"
      ]
     },
     "execution_count": 25,
     "metadata": {},
     "output_type": "execute_result"
    }
   ],
   "source": [
    "bond_check(1.7,max_length=2.0)"
   ]
  },
  {
   "cell_type": "code",
   "execution_count": 24,
   "metadata": {},
   "outputs": [
    {
     "data": {
      "text/plain": [
       "True"
      ]
     },
     "execution_count": 24,
     "metadata": {},
     "output_type": "execute_result"
    }
   ],
   "source": [
    "bond_check(1.2)"
   ]
  },
  {
   "cell_type": "code",
   "execution_count": 30,
   "metadata": {},
   "outputs": [
    {
     "name": "stdout",
     "output_type": "stream",
     "text": [
      "Help on function bond_check in module __main__:\n",
      "\n",
      "bond_check(atom_distance, min_length=0, max_length=1.5)\n",
      "    check if a distance is a bond based on a minimum and maximum length.\n",
      "    Inputs: distance, min_length, max_length\n",
      "    Defaults: min_length=0, max_length=1.5\n",
      "    Return: True or False\n",
      "\n"
     ]
    }
   ],
   "source": [
    "help(bond_check)"
   ]
  },
  {
   "cell_type": "code",
   "execution_count": 35,
   "metadata": {},
   "outputs": [
    {
     "name": "stderr",
     "output_type": "stream",
     "text": [
      "usage: ipykernel_launcher.py [-h] xyz_file\n",
      "ipykernel_launcher.py: error: unrecognized arguments: -f\n"
     ]
    },
    {
     "ename": "SystemExit",
     "evalue": "2",
     "output_type": "error",
     "traceback": [
      "An exception has occurred, use %tb to see the full traceback.\n",
      "\u001b[0;31mSystemExit\u001b[0m\u001b[0;31m:\u001b[0m 2\n"
     ]
    },
    {
     "name": "stderr",
     "output_type": "stream",
     "text": [
      "/Users/monsurat/anaconda3/lib/python3.7/site-packages/IPython/core/interactiveshell.py:3339: UserWarning: To exit: use 'exit', 'quit', or Ctrl-D.\n",
      "  warn(\"To exit: use 'exit', 'quit', or Ctrl-D.\", stacklevel=1)\n"
     ]
    }
   ],
   "source": [
    "import numpy\n",
    "import os\n",
    "import argparse\n",
    "\n",
    "def calculate_distance(coords1, coords2):\n",
    "    x_distance = coords1[0]-coords2[0]\n",
    "    y_distance = coords1[1]-coords2[1]\n",
    "    z_distance = coords1[2]-coords2[2]\n",
    "    distance_12 = numpy.sqrt(x_distance**2 + y_distance**2 + z_distance**2)\n",
    "    return distance_12\n",
    "\n",
    "def bond_check(atom_distance, min_length=0, max_length=1.5):\n",
    "    \"\"\"\n",
    "    check if a distance is a bond based on a minimum and maximum length.\n",
    "    Inputs: distance, min_length, max_length\n",
    "    Defaults: min_length=0, max_length=1.5\n",
    "    Return: True or False\n",
    "    \"\"\"\n",
    "    if atom_distance > min_length and atom_distance <= max_length:\n",
    "        return True\n",
    "    else:\n",
    "        return False\n",
    "\n",
    "if __name__==\"__main__\":\n",
    "\n",
    "    parser = argparse.ArgumentParser(description=\"This script analyzes a user provided xyz file and output all the bonds.\")\n",
    "    parser.add_argument(\"xyz_file\", help=\"The filepath for the xyz file to analyze\")\n",
    "    args = parser.parse_args()\n",
    "\n",
    "    file_location = args.xyz_file\n",
    "    xyz_file = numpy.genfromtxt(fname=file_location, skip_header=2, dtype='unicode')\n",
    "    symbols = xyz_file[:,0]\n",
    "    coordinates = xyz_file[:,1:]\n",
    "    coordinates = coordinates.astype(numpy.float)\n",
    "    num_atoms = len(symbols)\n",
    "    for num1 in range(0,num_atoms):\n",
    "        for num2 in range(0,num_atoms):\n",
    "            if num1<num2:\n",
    "                distance = calculate_distance(coordinates[num1],coordinates[num2])\n",
    "                if bond_check(distance):\n",
    "                    print(F'{symbols[num1]} to {symbols[num2]} : {distance:.3f}')"
   ]
  },
  {
   "cell_type": "code",
   "execution_count": null,
   "metadata": {},
   "outputs": [],
   "source": []
  }
 ],
 "metadata": {
  "kernelspec": {
   "display_name": "Python 3",
   "language": "python",
   "name": "python3"
  },
  "language_info": {
   "codemirror_mode": {
    "name": "ipython",
    "version": 3
   },
   "file_extension": ".py",
   "mimetype": "text/x-python",
   "name": "python",
   "nbconvert_exporter": "python",
   "pygments_lexer": "ipython3",
   "version": "3.7.6"
  }
 },
 "nbformat": 4,
 "nbformat_minor": 4
}
